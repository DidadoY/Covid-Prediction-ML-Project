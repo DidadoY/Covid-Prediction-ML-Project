{
  "cells": [
    {
      "cell_type": "markdown",
      "metadata": {
        "id": "u6739yU8a85s"
      },
      "source": [
        "# Covid prediction"
      ]
    },
    {
      "cell_type": "markdown",
      "source": [
        "**Descripción**: Covid prediction es un Notebook que en base a un Dataset de Kaggle es capaz de predecir con una accuracy del 97% si una persona tiene COVID-19 o no.\n",
        "\n",
        "**Autor**: Marc Nebot Moyano\n",
        "\n",
        "**Fecha**: 07/07/2022"
      ],
      "metadata": {
        "id": "Q_8ZPxSv__BK"
      }
    },
    {
      "cell_type": "markdown",
      "metadata": {
        "id": "Oz8rHukWbA-K"
      },
      "source": [
        "## 1. Análisis del Dataset"
      ]
    },
    {
      "cell_type": "code",
      "execution_count": 373,
      "metadata": {
        "id": "AMfpDdDJbDyy"
      },
      "outputs": [],
      "source": [
        "import pandas as pd\n",
        "import numpy as np\n",
        "import seaborn as sns\n",
        "import matplotlib.pyplot as plt"
      ]
    },
    {
      "cell_type": "markdown",
      "metadata": {
        "id": "vVDbtp0QbIxD"
      },
      "source": [
        "### Observación de los datos leídos"
      ]
    },
    {
      "cell_type": "markdown",
      "source": [
        "El DataSet escogido es un DataSet que incluye pacientes con COVID-19 y sin COVID-19 con sus respectivos síntomas. Seguidamente podremos ver con qué tipos de datos tratamos para transformarlos debidamente junto con sus anomalías."
      ],
      "metadata": {
        "id": "PJe0T1Qvohg8"
      }
    },
    {
      "cell_type": "code",
      "execution_count": 374,
      "metadata": {
        "colab": {
          "base_uri": "https://localhost:8080/",
          "height": 520
        },
        "id": "x_LNVXPmbMqL",
        "outputId": "e700a3d6-9d14-4ce4-97c6-7f609fefe156"
      },
      "outputs": [
        {
          "output_type": "execute_result",
          "data": {
            "text/plain": [
              "     Breathing Problem Fever Dry Cough Sore throat Running Nose Asthma  \\\n",
              "0                  Yes   Yes       Yes         Yes          Yes     No   \n",
              "1                  Yes   Yes       Yes         Yes           No    Yes   \n",
              "2                  Yes   Yes       Yes         Yes          Yes    Yes   \n",
              "3                  Yes   Yes       Yes          No           No    Yes   \n",
              "4                  Yes   Yes       Yes         Yes          Yes     No   \n",
              "...                ...   ...       ...         ...          ...    ...   \n",
              "5429               Yes   Yes        No         Yes          Yes    Yes   \n",
              "5430               Yes   Yes       Yes          No          Yes    Yes   \n",
              "5431               Yes   Yes       Yes          No           No     No   \n",
              "5432               Yes   Yes       Yes          No          Yes     No   \n",
              "5433               Yes   Yes       Yes          No          Yes    Yes   \n",
              "\n",
              "     Chronic Lung Disease Headache Heart Disease Diabetes  ... Fatigue   \\\n",
              "0                      No       No            No      Yes  ...      Yes   \n",
              "1                     Yes      Yes            No       No  ...      Yes   \n",
              "2                     Yes      Yes            No      Yes  ...      Yes   \n",
              "3                      No       No           Yes      Yes  ...       No   \n",
              "4                     Yes      Yes           Yes      Yes  ...       No   \n",
              "...                   ...      ...           ...      ...  ...      ...   \n",
              "5429                  Yes       No            No       No  ...      Yes   \n",
              "5430                   No      Yes            No      Yes  ...      Yes   \n",
              "5431                   No       No           Yes       No  ...       No   \n",
              "5432                   No      Yes           Yes       No  ...       No   \n",
              "5433                   No      Yes            No      Yes  ...      Yes   \n",
              "\n",
              "     Gastrointestinal  Abroad travel Contact with COVID Patient  \\\n",
              "0                  Yes            No                        Yes   \n",
              "1                   No            No                         No   \n",
              "2                  Yes           Yes                         No   \n",
              "3                   No           Yes                         No   \n",
              "4                  Yes            No                        Yes   \n",
              "...                ...           ...                        ...   \n",
              "5429               Yes            No                         No   \n",
              "5430                No            No                         No   \n",
              "5431                No            No                         No   \n",
              "5432                No            No                         No   \n",
              "5433                No            No                         No   \n",
              "\n",
              "     Attended Large Gathering Visited Public Exposed Places  \\\n",
              "0                          No                           Yes   \n",
              "1                         Yes                           Yes   \n",
              "2                          No                            No   \n",
              "3                         Yes                           Yes   \n",
              "4                          No                           Yes   \n",
              "...                       ...                           ...   \n",
              "5429                       No                            No   \n",
              "5430                       No                            No   \n",
              "5431                       No                            No   \n",
              "5432                       No                            No   \n",
              "5433                       No                            No   \n",
              "\n",
              "     Family working in Public Exposed Places Wearing Masks  \\\n",
              "0                                        Yes            No   \n",
              "1                                         No            No   \n",
              "2                                         No            No   \n",
              "3                                         No            No   \n",
              "4                                         No            No   \n",
              "...                                      ...           ...   \n",
              "5429                                      No            No   \n",
              "5430                                      No            No   \n",
              "5431                                      No            No   \n",
              "5432                                      No            No   \n",
              "5433                                      No            No   \n",
              "\n",
              "     Sanitization from Market COVID-19  \n",
              "0                          No      Yes  \n",
              "1                          No      Yes  \n",
              "2                          No      Yes  \n",
              "3                          No      Yes  \n",
              "4                          No      Yes  \n",
              "...                       ...      ...  \n",
              "5429                       No      Yes  \n",
              "5430                       No      Yes  \n",
              "5431                       No       No  \n",
              "5432                       No       No  \n",
              "5433                       No       No  \n",
              "\n",
              "[5434 rows x 21 columns]"
            ],
            "text/html": [
              "\n",
              "  <div id=\"df-82bfbe8a-f5da-4772-9a88-429f04191931\">\n",
              "    <div class=\"colab-df-container\">\n",
              "      <div>\n",
              "<style scoped>\n",
              "    .dataframe tbody tr th:only-of-type {\n",
              "        vertical-align: middle;\n",
              "    }\n",
              "\n",
              "    .dataframe tbody tr th {\n",
              "        vertical-align: top;\n",
              "    }\n",
              "\n",
              "    .dataframe thead th {\n",
              "        text-align: right;\n",
              "    }\n",
              "</style>\n",
              "<table border=\"1\" class=\"dataframe\">\n",
              "  <thead>\n",
              "    <tr style=\"text-align: right;\">\n",
              "      <th></th>\n",
              "      <th>Breathing Problem</th>\n",
              "      <th>Fever</th>\n",
              "      <th>Dry Cough</th>\n",
              "      <th>Sore throat</th>\n",
              "      <th>Running Nose</th>\n",
              "      <th>Asthma</th>\n",
              "      <th>Chronic Lung Disease</th>\n",
              "      <th>Headache</th>\n",
              "      <th>Heart Disease</th>\n",
              "      <th>Diabetes</th>\n",
              "      <th>...</th>\n",
              "      <th>Fatigue</th>\n",
              "      <th>Gastrointestinal</th>\n",
              "      <th>Abroad travel</th>\n",
              "      <th>Contact with COVID Patient</th>\n",
              "      <th>Attended Large Gathering</th>\n",
              "      <th>Visited Public Exposed Places</th>\n",
              "      <th>Family working in Public Exposed Places</th>\n",
              "      <th>Wearing Masks</th>\n",
              "      <th>Sanitization from Market</th>\n",
              "      <th>COVID-19</th>\n",
              "    </tr>\n",
              "  </thead>\n",
              "  <tbody>\n",
              "    <tr>\n",
              "      <th>0</th>\n",
              "      <td>Yes</td>\n",
              "      <td>Yes</td>\n",
              "      <td>Yes</td>\n",
              "      <td>Yes</td>\n",
              "      <td>Yes</td>\n",
              "      <td>No</td>\n",
              "      <td>No</td>\n",
              "      <td>No</td>\n",
              "      <td>No</td>\n",
              "      <td>Yes</td>\n",
              "      <td>...</td>\n",
              "      <td>Yes</td>\n",
              "      <td>Yes</td>\n",
              "      <td>No</td>\n",
              "      <td>Yes</td>\n",
              "      <td>No</td>\n",
              "      <td>Yes</td>\n",
              "      <td>Yes</td>\n",
              "      <td>No</td>\n",
              "      <td>No</td>\n",
              "      <td>Yes</td>\n",
              "    </tr>\n",
              "    <tr>\n",
              "      <th>1</th>\n",
              "      <td>Yes</td>\n",
              "      <td>Yes</td>\n",
              "      <td>Yes</td>\n",
              "      <td>Yes</td>\n",
              "      <td>No</td>\n",
              "      <td>Yes</td>\n",
              "      <td>Yes</td>\n",
              "      <td>Yes</td>\n",
              "      <td>No</td>\n",
              "      <td>No</td>\n",
              "      <td>...</td>\n",
              "      <td>Yes</td>\n",
              "      <td>No</td>\n",
              "      <td>No</td>\n",
              "      <td>No</td>\n",
              "      <td>Yes</td>\n",
              "      <td>Yes</td>\n",
              "      <td>No</td>\n",
              "      <td>No</td>\n",
              "      <td>No</td>\n",
              "      <td>Yes</td>\n",
              "    </tr>\n",
              "    <tr>\n",
              "      <th>2</th>\n",
              "      <td>Yes</td>\n",
              "      <td>Yes</td>\n",
              "      <td>Yes</td>\n",
              "      <td>Yes</td>\n",
              "      <td>Yes</td>\n",
              "      <td>Yes</td>\n",
              "      <td>Yes</td>\n",
              "      <td>Yes</td>\n",
              "      <td>No</td>\n",
              "      <td>Yes</td>\n",
              "      <td>...</td>\n",
              "      <td>Yes</td>\n",
              "      <td>Yes</td>\n",
              "      <td>Yes</td>\n",
              "      <td>No</td>\n",
              "      <td>No</td>\n",
              "      <td>No</td>\n",
              "      <td>No</td>\n",
              "      <td>No</td>\n",
              "      <td>No</td>\n",
              "      <td>Yes</td>\n",
              "    </tr>\n",
              "    <tr>\n",
              "      <th>3</th>\n",
              "      <td>Yes</td>\n",
              "      <td>Yes</td>\n",
              "      <td>Yes</td>\n",
              "      <td>No</td>\n",
              "      <td>No</td>\n",
              "      <td>Yes</td>\n",
              "      <td>No</td>\n",
              "      <td>No</td>\n",
              "      <td>Yes</td>\n",
              "      <td>Yes</td>\n",
              "      <td>...</td>\n",
              "      <td>No</td>\n",
              "      <td>No</td>\n",
              "      <td>Yes</td>\n",
              "      <td>No</td>\n",
              "      <td>Yes</td>\n",
              "      <td>Yes</td>\n",
              "      <td>No</td>\n",
              "      <td>No</td>\n",
              "      <td>No</td>\n",
              "      <td>Yes</td>\n",
              "    </tr>\n",
              "    <tr>\n",
              "      <th>4</th>\n",
              "      <td>Yes</td>\n",
              "      <td>Yes</td>\n",
              "      <td>Yes</td>\n",
              "      <td>Yes</td>\n",
              "      <td>Yes</td>\n",
              "      <td>No</td>\n",
              "      <td>Yes</td>\n",
              "      <td>Yes</td>\n",
              "      <td>Yes</td>\n",
              "      <td>Yes</td>\n",
              "      <td>...</td>\n",
              "      <td>No</td>\n",
              "      <td>Yes</td>\n",
              "      <td>No</td>\n",
              "      <td>Yes</td>\n",
              "      <td>No</td>\n",
              "      <td>Yes</td>\n",
              "      <td>No</td>\n",
              "      <td>No</td>\n",
              "      <td>No</td>\n",
              "      <td>Yes</td>\n",
              "    </tr>\n",
              "    <tr>\n",
              "      <th>...</th>\n",
              "      <td>...</td>\n",
              "      <td>...</td>\n",
              "      <td>...</td>\n",
              "      <td>...</td>\n",
              "      <td>...</td>\n",
              "      <td>...</td>\n",
              "      <td>...</td>\n",
              "      <td>...</td>\n",
              "      <td>...</td>\n",
              "      <td>...</td>\n",
              "      <td>...</td>\n",
              "      <td>...</td>\n",
              "      <td>...</td>\n",
              "      <td>...</td>\n",
              "      <td>...</td>\n",
              "      <td>...</td>\n",
              "      <td>...</td>\n",
              "      <td>...</td>\n",
              "      <td>...</td>\n",
              "      <td>...</td>\n",
              "      <td>...</td>\n",
              "    </tr>\n",
              "    <tr>\n",
              "      <th>5429</th>\n",
              "      <td>Yes</td>\n",
              "      <td>Yes</td>\n",
              "      <td>No</td>\n",
              "      <td>Yes</td>\n",
              "      <td>Yes</td>\n",
              "      <td>Yes</td>\n",
              "      <td>Yes</td>\n",
              "      <td>No</td>\n",
              "      <td>No</td>\n",
              "      <td>No</td>\n",
              "      <td>...</td>\n",
              "      <td>Yes</td>\n",
              "      <td>Yes</td>\n",
              "      <td>No</td>\n",
              "      <td>No</td>\n",
              "      <td>No</td>\n",
              "      <td>No</td>\n",
              "      <td>No</td>\n",
              "      <td>No</td>\n",
              "      <td>No</td>\n",
              "      <td>Yes</td>\n",
              "    </tr>\n",
              "    <tr>\n",
              "      <th>5430</th>\n",
              "      <td>Yes</td>\n",
              "      <td>Yes</td>\n",
              "      <td>Yes</td>\n",
              "      <td>No</td>\n",
              "      <td>Yes</td>\n",
              "      <td>Yes</td>\n",
              "      <td>No</td>\n",
              "      <td>Yes</td>\n",
              "      <td>No</td>\n",
              "      <td>Yes</td>\n",
              "      <td>...</td>\n",
              "      <td>Yes</td>\n",
              "      <td>No</td>\n",
              "      <td>No</td>\n",
              "      <td>No</td>\n",
              "      <td>No</td>\n",
              "      <td>No</td>\n",
              "      <td>No</td>\n",
              "      <td>No</td>\n",
              "      <td>No</td>\n",
              "      <td>Yes</td>\n",
              "    </tr>\n",
              "    <tr>\n",
              "      <th>5431</th>\n",
              "      <td>Yes</td>\n",
              "      <td>Yes</td>\n",
              "      <td>Yes</td>\n",
              "      <td>No</td>\n",
              "      <td>No</td>\n",
              "      <td>No</td>\n",
              "      <td>No</td>\n",
              "      <td>No</td>\n",
              "      <td>Yes</td>\n",
              "      <td>No</td>\n",
              "      <td>...</td>\n",
              "      <td>No</td>\n",
              "      <td>No</td>\n",
              "      <td>No</td>\n",
              "      <td>No</td>\n",
              "      <td>No</td>\n",
              "      <td>No</td>\n",
              "      <td>No</td>\n",
              "      <td>No</td>\n",
              "      <td>No</td>\n",
              "      <td>No</td>\n",
              "    </tr>\n",
              "    <tr>\n",
              "      <th>5432</th>\n",
              "      <td>Yes</td>\n",
              "      <td>Yes</td>\n",
              "      <td>Yes</td>\n",
              "      <td>No</td>\n",
              "      <td>Yes</td>\n",
              "      <td>No</td>\n",
              "      <td>No</td>\n",
              "      <td>Yes</td>\n",
              "      <td>Yes</td>\n",
              "      <td>No</td>\n",
              "      <td>...</td>\n",
              "      <td>No</td>\n",
              "      <td>No</td>\n",
              "      <td>No</td>\n",
              "      <td>No</td>\n",
              "      <td>No</td>\n",
              "      <td>No</td>\n",
              "      <td>No</td>\n",
              "      <td>No</td>\n",
              "      <td>No</td>\n",
              "      <td>No</td>\n",
              "    </tr>\n",
              "    <tr>\n",
              "      <th>5433</th>\n",
              "      <td>Yes</td>\n",
              "      <td>Yes</td>\n",
              "      <td>Yes</td>\n",
              "      <td>No</td>\n",
              "      <td>Yes</td>\n",
              "      <td>Yes</td>\n",
              "      <td>No</td>\n",
              "      <td>Yes</td>\n",
              "      <td>No</td>\n",
              "      <td>Yes</td>\n",
              "      <td>...</td>\n",
              "      <td>Yes</td>\n",
              "      <td>No</td>\n",
              "      <td>No</td>\n",
              "      <td>No</td>\n",
              "      <td>No</td>\n",
              "      <td>No</td>\n",
              "      <td>No</td>\n",
              "      <td>No</td>\n",
              "      <td>No</td>\n",
              "      <td>No</td>\n",
              "    </tr>\n",
              "  </tbody>\n",
              "</table>\n",
              "<p>5434 rows × 21 columns</p>\n",
              "</div>\n",
              "      <button class=\"colab-df-convert\" onclick=\"convertToInteractive('df-82bfbe8a-f5da-4772-9a88-429f04191931')\"\n",
              "              title=\"Convert this dataframe to an interactive table.\"\n",
              "              style=\"display:none;\">\n",
              "        \n",
              "  <svg xmlns=\"http://www.w3.org/2000/svg\" height=\"24px\"viewBox=\"0 0 24 24\"\n",
              "       width=\"24px\">\n",
              "    <path d=\"M0 0h24v24H0V0z\" fill=\"none\"/>\n",
              "    <path d=\"M18.56 5.44l.94 2.06.94-2.06 2.06-.94-2.06-.94-.94-2.06-.94 2.06-2.06.94zm-11 1L8.5 8.5l.94-2.06 2.06-.94-2.06-.94L8.5 2.5l-.94 2.06-2.06.94zm10 10l.94 2.06.94-2.06 2.06-.94-2.06-.94-.94-2.06-.94 2.06-2.06.94z\"/><path d=\"M17.41 7.96l-1.37-1.37c-.4-.4-.92-.59-1.43-.59-.52 0-1.04.2-1.43.59L10.3 9.45l-7.72 7.72c-.78.78-.78 2.05 0 2.83L4 21.41c.39.39.9.59 1.41.59.51 0 1.02-.2 1.41-.59l7.78-7.78 2.81-2.81c.8-.78.8-2.07 0-2.86zM5.41 20L4 18.59l7.72-7.72 1.47 1.35L5.41 20z\"/>\n",
              "  </svg>\n",
              "      </button>\n",
              "      \n",
              "  <style>\n",
              "    .colab-df-container {\n",
              "      display:flex;\n",
              "      flex-wrap:wrap;\n",
              "      gap: 12px;\n",
              "    }\n",
              "\n",
              "    .colab-df-convert {\n",
              "      background-color: #E8F0FE;\n",
              "      border: none;\n",
              "      border-radius: 50%;\n",
              "      cursor: pointer;\n",
              "      display: none;\n",
              "      fill: #1967D2;\n",
              "      height: 32px;\n",
              "      padding: 0 0 0 0;\n",
              "      width: 32px;\n",
              "    }\n",
              "\n",
              "    .colab-df-convert:hover {\n",
              "      background-color: #E2EBFA;\n",
              "      box-shadow: 0px 1px 2px rgba(60, 64, 67, 0.3), 0px 1px 3px 1px rgba(60, 64, 67, 0.15);\n",
              "      fill: #174EA6;\n",
              "    }\n",
              "\n",
              "    [theme=dark] .colab-df-convert {\n",
              "      background-color: #3B4455;\n",
              "      fill: #D2E3FC;\n",
              "    }\n",
              "\n",
              "    [theme=dark] .colab-df-convert:hover {\n",
              "      background-color: #434B5C;\n",
              "      box-shadow: 0px 1px 3px 1px rgba(0, 0, 0, 0.15);\n",
              "      filter: drop-shadow(0px 1px 2px rgba(0, 0, 0, 0.3));\n",
              "      fill: #FFFFFF;\n",
              "    }\n",
              "  </style>\n",
              "\n",
              "      <script>\n",
              "        const buttonEl =\n",
              "          document.querySelector('#df-82bfbe8a-f5da-4772-9a88-429f04191931 button.colab-df-convert');\n",
              "        buttonEl.style.display =\n",
              "          google.colab.kernel.accessAllowed ? 'block' : 'none';\n",
              "\n",
              "        async function convertToInteractive(key) {\n",
              "          const element = document.querySelector('#df-82bfbe8a-f5da-4772-9a88-429f04191931');\n",
              "          const dataTable =\n",
              "            await google.colab.kernel.invokeFunction('convertToInteractive',\n",
              "                                                     [key], {});\n",
              "          if (!dataTable) return;\n",
              "\n",
              "          const docLinkHtml = 'Like what you see? Visit the ' +\n",
              "            '<a target=\"_blank\" href=https://colab.research.google.com/notebooks/data_table.ipynb>data table notebook</a>'\n",
              "            + ' to learn more about interactive tables.';\n",
              "          element.innerHTML = '';\n",
              "          dataTable['output_type'] = 'display_data';\n",
              "          await google.colab.output.renderOutput(dataTable, element);\n",
              "          const docLink = document.createElement('div');\n",
              "          docLink.innerHTML = docLinkHtml;\n",
              "          element.appendChild(docLink);\n",
              "        }\n",
              "      </script>\n",
              "    </div>\n",
              "  </div>\n",
              "  "
            ]
          },
          "metadata": {},
          "execution_count": 374
        }
      ],
      "source": [
        "df = pd.read_csv('Covid Dataset.csv')\n",
        "df"
      ]
    },
    {
      "cell_type": "markdown",
      "source": [
        "A continuación, comprobaremos que no hayan datos erróneos o sin sentido, número negativos donde no tocan, ceros... \n",
        "\n",
        "Podemos ver que todos los datos son correctos y no hay valores sin sentido ya que todas las columnas tienen Yes y No"
      ],
      "metadata": {
        "id": "CUcHLHjmjBrC"
      }
    },
    {
      "cell_type": "code",
      "source": [
        "df.describe()"
      ],
      "metadata": {
        "colab": {
          "base_uri": "https://localhost:8080/",
          "height": 318
        },
        "id": "qOswGe7ErfR3",
        "outputId": "fef0391d-1411-4284-f613-3f356fa1a26b"
      },
      "execution_count": 375,
      "outputs": [
        {
          "output_type": "execute_result",
          "data": {
            "text/plain": [
              "       Breathing Problem Fever Dry Cough Sore throat Running Nose Asthma  \\\n",
              "count               5434  5434      5434        5434         5434   5434   \n",
              "unique                 2     2         2           2            2      2   \n",
              "top                  Yes   Yes       Yes         Yes          Yes     No   \n",
              "freq                3620  4273      4307        3953         2952   2920   \n",
              "\n",
              "       Chronic Lung Disease Headache Heart Disease Diabetes  ... Fatigue   \\\n",
              "count                  5434     5434          5434     5434  ...     5434   \n",
              "unique                    2        2             2        2  ...        2   \n",
              "top                      No      Yes            No       No  ...      Yes   \n",
              "freq                   2869     2736          2911     2846  ...     2821   \n",
              "\n",
              "       Gastrointestinal  Abroad travel Contact with COVID Patient  \\\n",
              "count               5434          5434                       5434   \n",
              "unique                 2             2                          2   \n",
              "top                   No            No                        Yes   \n",
              "freq                2883          2983                       2726   \n",
              "\n",
              "       Attended Large Gathering Visited Public Exposed Places  \\\n",
              "count                      5434                          5434   \n",
              "unique                        2                             2   \n",
              "top                          No                           Yes   \n",
              "freq                       2924                          2820   \n",
              "\n",
              "       Family working in Public Exposed Places Wearing Masks  \\\n",
              "count                                     5434          5434   \n",
              "unique                                       2             1   \n",
              "top                                         No            No   \n",
              "freq                                      3172          5434   \n",
              "\n",
              "       Sanitization from Market COVID-19  \n",
              "count                      5434     5434  \n",
              "unique                        1        2  \n",
              "top                          No      Yes  \n",
              "freq                       5434     4383  \n",
              "\n",
              "[4 rows x 21 columns]"
            ],
            "text/html": [
              "\n",
              "  <div id=\"df-9830d7a5-6852-44dd-a37d-0571a3bc8a0e\">\n",
              "    <div class=\"colab-df-container\">\n",
              "      <div>\n",
              "<style scoped>\n",
              "    .dataframe tbody tr th:only-of-type {\n",
              "        vertical-align: middle;\n",
              "    }\n",
              "\n",
              "    .dataframe tbody tr th {\n",
              "        vertical-align: top;\n",
              "    }\n",
              "\n",
              "    .dataframe thead th {\n",
              "        text-align: right;\n",
              "    }\n",
              "</style>\n",
              "<table border=\"1\" class=\"dataframe\">\n",
              "  <thead>\n",
              "    <tr style=\"text-align: right;\">\n",
              "      <th></th>\n",
              "      <th>Breathing Problem</th>\n",
              "      <th>Fever</th>\n",
              "      <th>Dry Cough</th>\n",
              "      <th>Sore throat</th>\n",
              "      <th>Running Nose</th>\n",
              "      <th>Asthma</th>\n",
              "      <th>Chronic Lung Disease</th>\n",
              "      <th>Headache</th>\n",
              "      <th>Heart Disease</th>\n",
              "      <th>Diabetes</th>\n",
              "      <th>...</th>\n",
              "      <th>Fatigue</th>\n",
              "      <th>Gastrointestinal</th>\n",
              "      <th>Abroad travel</th>\n",
              "      <th>Contact with COVID Patient</th>\n",
              "      <th>Attended Large Gathering</th>\n",
              "      <th>Visited Public Exposed Places</th>\n",
              "      <th>Family working in Public Exposed Places</th>\n",
              "      <th>Wearing Masks</th>\n",
              "      <th>Sanitization from Market</th>\n",
              "      <th>COVID-19</th>\n",
              "    </tr>\n",
              "  </thead>\n",
              "  <tbody>\n",
              "    <tr>\n",
              "      <th>count</th>\n",
              "      <td>5434</td>\n",
              "      <td>5434</td>\n",
              "      <td>5434</td>\n",
              "      <td>5434</td>\n",
              "      <td>5434</td>\n",
              "      <td>5434</td>\n",
              "      <td>5434</td>\n",
              "      <td>5434</td>\n",
              "      <td>5434</td>\n",
              "      <td>5434</td>\n",
              "      <td>...</td>\n",
              "      <td>5434</td>\n",
              "      <td>5434</td>\n",
              "      <td>5434</td>\n",
              "      <td>5434</td>\n",
              "      <td>5434</td>\n",
              "      <td>5434</td>\n",
              "      <td>5434</td>\n",
              "      <td>5434</td>\n",
              "      <td>5434</td>\n",
              "      <td>5434</td>\n",
              "    </tr>\n",
              "    <tr>\n",
              "      <th>unique</th>\n",
              "      <td>2</td>\n",
              "      <td>2</td>\n",
              "      <td>2</td>\n",
              "      <td>2</td>\n",
              "      <td>2</td>\n",
              "      <td>2</td>\n",
              "      <td>2</td>\n",
              "      <td>2</td>\n",
              "      <td>2</td>\n",
              "      <td>2</td>\n",
              "      <td>...</td>\n",
              "      <td>2</td>\n",
              "      <td>2</td>\n",
              "      <td>2</td>\n",
              "      <td>2</td>\n",
              "      <td>2</td>\n",
              "      <td>2</td>\n",
              "      <td>2</td>\n",
              "      <td>1</td>\n",
              "      <td>1</td>\n",
              "      <td>2</td>\n",
              "    </tr>\n",
              "    <tr>\n",
              "      <th>top</th>\n",
              "      <td>Yes</td>\n",
              "      <td>Yes</td>\n",
              "      <td>Yes</td>\n",
              "      <td>Yes</td>\n",
              "      <td>Yes</td>\n",
              "      <td>No</td>\n",
              "      <td>No</td>\n",
              "      <td>Yes</td>\n",
              "      <td>No</td>\n",
              "      <td>No</td>\n",
              "      <td>...</td>\n",
              "      <td>Yes</td>\n",
              "      <td>No</td>\n",
              "      <td>No</td>\n",
              "      <td>Yes</td>\n",
              "      <td>No</td>\n",
              "      <td>Yes</td>\n",
              "      <td>No</td>\n",
              "      <td>No</td>\n",
              "      <td>No</td>\n",
              "      <td>Yes</td>\n",
              "    </tr>\n",
              "    <tr>\n",
              "      <th>freq</th>\n",
              "      <td>3620</td>\n",
              "      <td>4273</td>\n",
              "      <td>4307</td>\n",
              "      <td>3953</td>\n",
              "      <td>2952</td>\n",
              "      <td>2920</td>\n",
              "      <td>2869</td>\n",
              "      <td>2736</td>\n",
              "      <td>2911</td>\n",
              "      <td>2846</td>\n",
              "      <td>...</td>\n",
              "      <td>2821</td>\n",
              "      <td>2883</td>\n",
              "      <td>2983</td>\n",
              "      <td>2726</td>\n",
              "      <td>2924</td>\n",
              "      <td>2820</td>\n",
              "      <td>3172</td>\n",
              "      <td>5434</td>\n",
              "      <td>5434</td>\n",
              "      <td>4383</td>\n",
              "    </tr>\n",
              "  </tbody>\n",
              "</table>\n",
              "<p>4 rows × 21 columns</p>\n",
              "</div>\n",
              "      <button class=\"colab-df-convert\" onclick=\"convertToInteractive('df-9830d7a5-6852-44dd-a37d-0571a3bc8a0e')\"\n",
              "              title=\"Convert this dataframe to an interactive table.\"\n",
              "              style=\"display:none;\">\n",
              "        \n",
              "  <svg xmlns=\"http://www.w3.org/2000/svg\" height=\"24px\"viewBox=\"0 0 24 24\"\n",
              "       width=\"24px\">\n",
              "    <path d=\"M0 0h24v24H0V0z\" fill=\"none\"/>\n",
              "    <path d=\"M18.56 5.44l.94 2.06.94-2.06 2.06-.94-2.06-.94-.94-2.06-.94 2.06-2.06.94zm-11 1L8.5 8.5l.94-2.06 2.06-.94-2.06-.94L8.5 2.5l-.94 2.06-2.06.94zm10 10l.94 2.06.94-2.06 2.06-.94-2.06-.94-.94-2.06-.94 2.06-2.06.94z\"/><path d=\"M17.41 7.96l-1.37-1.37c-.4-.4-.92-.59-1.43-.59-.52 0-1.04.2-1.43.59L10.3 9.45l-7.72 7.72c-.78.78-.78 2.05 0 2.83L4 21.41c.39.39.9.59 1.41.59.51 0 1.02-.2 1.41-.59l7.78-7.78 2.81-2.81c.8-.78.8-2.07 0-2.86zM5.41 20L4 18.59l7.72-7.72 1.47 1.35L5.41 20z\"/>\n",
              "  </svg>\n",
              "      </button>\n",
              "      \n",
              "  <style>\n",
              "    .colab-df-container {\n",
              "      display:flex;\n",
              "      flex-wrap:wrap;\n",
              "      gap: 12px;\n",
              "    }\n",
              "\n",
              "    .colab-df-convert {\n",
              "      background-color: #E8F0FE;\n",
              "      border: none;\n",
              "      border-radius: 50%;\n",
              "      cursor: pointer;\n",
              "      display: none;\n",
              "      fill: #1967D2;\n",
              "      height: 32px;\n",
              "      padding: 0 0 0 0;\n",
              "      width: 32px;\n",
              "    }\n",
              "\n",
              "    .colab-df-convert:hover {\n",
              "      background-color: #E2EBFA;\n",
              "      box-shadow: 0px 1px 2px rgba(60, 64, 67, 0.3), 0px 1px 3px 1px rgba(60, 64, 67, 0.15);\n",
              "      fill: #174EA6;\n",
              "    }\n",
              "\n",
              "    [theme=dark] .colab-df-convert {\n",
              "      background-color: #3B4455;\n",
              "      fill: #D2E3FC;\n",
              "    }\n",
              "\n",
              "    [theme=dark] .colab-df-convert:hover {\n",
              "      background-color: #434B5C;\n",
              "      box-shadow: 0px 1px 3px 1px rgba(0, 0, 0, 0.15);\n",
              "      filter: drop-shadow(0px 1px 2px rgba(0, 0, 0, 0.3));\n",
              "      fill: #FFFFFF;\n",
              "    }\n",
              "  </style>\n",
              "\n",
              "      <script>\n",
              "        const buttonEl =\n",
              "          document.querySelector('#df-9830d7a5-6852-44dd-a37d-0571a3bc8a0e button.colab-df-convert');\n",
              "        buttonEl.style.display =\n",
              "          google.colab.kernel.accessAllowed ? 'block' : 'none';\n",
              "\n",
              "        async function convertToInteractive(key) {\n",
              "          const element = document.querySelector('#df-9830d7a5-6852-44dd-a37d-0571a3bc8a0e');\n",
              "          const dataTable =\n",
              "            await google.colab.kernel.invokeFunction('convertToInteractive',\n",
              "                                                     [key], {});\n",
              "          if (!dataTable) return;\n",
              "\n",
              "          const docLinkHtml = 'Like what you see? Visit the ' +\n",
              "            '<a target=\"_blank\" href=https://colab.research.google.com/notebooks/data_table.ipynb>data table notebook</a>'\n",
              "            + ' to learn more about interactive tables.';\n",
              "          element.innerHTML = '';\n",
              "          dataTable['output_type'] = 'display_data';\n",
              "          await google.colab.output.renderOutput(dataTable, element);\n",
              "          const docLink = document.createElement('div');\n",
              "          docLink.innerHTML = docLinkHtml;\n",
              "          element.appendChild(docLink);\n",
              "        }\n",
              "      </script>\n",
              "    </div>\n",
              "  </div>\n",
              "  "
            ]
          },
          "metadata": {},
          "execution_count": 375
        }
      ]
    },
    {
      "cell_type": "markdown",
      "metadata": {
        "id": "Vsl-BoZ1cCD5"
      },
      "source": [
        "### Visualización de valores NaN"
      ]
    },
    {
      "cell_type": "markdown",
      "source": [
        "Podemos observar que no hay valores NaN, por lo tanto, no hace falta tratarlos pues todos los datos tienen algún valor"
      ],
      "metadata": {
        "id": "F2c7VRkQjMxw"
      }
    },
    {
      "cell_type": "code",
      "execution_count": 376,
      "metadata": {
        "colab": {
          "base_uri": "https://localhost:8080/"
        },
        "id": "Yv45T8R6bgnq",
        "outputId": "20845055-b8d7-47b9-ddd2-1bfeeaac802a"
      },
      "outputs": [
        {
          "output_type": "execute_result",
          "data": {
            "text/plain": [
              "Breathing Problem                          0\n",
              "Fever                                      0\n",
              "Dry Cough                                  0\n",
              "Sore throat                                0\n",
              "Running Nose                               0\n",
              "Asthma                                     0\n",
              "Chronic Lung Disease                       0\n",
              "Headache                                   0\n",
              "Heart Disease                              0\n",
              "Diabetes                                   0\n",
              "Hyper Tension                              0\n",
              "Fatigue                                    0\n",
              "Gastrointestinal                           0\n",
              "Abroad travel                              0\n",
              "Contact with COVID Patient                 0\n",
              "Attended Large Gathering                   0\n",
              "Visited Public Exposed Places              0\n",
              "Family working in Public Exposed Places    0\n",
              "Wearing Masks                              0\n",
              "Sanitization from Market                   0\n",
              "COVID-19                                   0\n",
              "dtype: int64"
            ]
          },
          "metadata": {},
          "execution_count": 376
        }
      ],
      "source": [
        "df.isnull().sum()"
      ]
    },
    {
      "cell_type": "markdown",
      "source": [
        "Tampoco hay valores iguales a 0, pues si hubiera valores iguales a 0 en el DataFrame de Yes y No sería lo mismo que NaN"
      ],
      "metadata": {
        "id": "SJhaOCeIk58O"
      }
    },
    {
      "cell_type": "code",
      "source": [
        "(df == 0).sum()"
      ],
      "metadata": {
        "colab": {
          "base_uri": "https://localhost:8080/"
        },
        "id": "2bzhG5Jfj-Mp",
        "outputId": "c9646747-4ce1-491d-cc5c-c6396b6f9160"
      },
      "execution_count": 377,
      "outputs": [
        {
          "output_type": "execute_result",
          "data": {
            "text/plain": [
              "Breathing Problem                          0\n",
              "Fever                                      0\n",
              "Dry Cough                                  0\n",
              "Sore throat                                0\n",
              "Running Nose                               0\n",
              "Asthma                                     0\n",
              "Chronic Lung Disease                       0\n",
              "Headache                                   0\n",
              "Heart Disease                              0\n",
              "Diabetes                                   0\n",
              "Hyper Tension                              0\n",
              "Fatigue                                    0\n",
              "Gastrointestinal                           0\n",
              "Abroad travel                              0\n",
              "Contact with COVID Patient                 0\n",
              "Attended Large Gathering                   0\n",
              "Visited Public Exposed Places              0\n",
              "Family working in Public Exposed Places    0\n",
              "Wearing Masks                              0\n",
              "Sanitization from Market                   0\n",
              "COVID-19                                   0\n",
              "dtype: int64"
            ]
          },
          "metadata": {},
          "execution_count": 377
        }
      ]
    },
    {
      "cell_type": "markdown",
      "metadata": {
        "id": "KWl1rHvxchey"
      },
      "source": [
        "# 1. Análisis de gráficas\n"
      ]
    },
    {
      "cell_type": "markdown",
      "metadata": {
        "id": "yv4IrOXFckPC"
      },
      "source": [
        "### Frecuencias"
      ]
    },
    {
      "cell_type": "markdown",
      "source": [
        "Seguidamente observaremos cómo son nuestras muestras para ver si tenemos una muestra desbalanceada o no. En el siguiente gráfico podemos ver que el número de muestras de personas que tienen COVID-19 es mayor que las que no tienen COVID-19."
      ],
      "metadata": {
        "id": "bUSWuOAywG-9"
      }
    },
    {
      "cell_type": "code",
      "execution_count": 378,
      "metadata": {
        "colab": {
          "base_uri": "https://localhost:8080/",
          "height": 296
        },
        "id": "5bvUm1pCcnBw",
        "outputId": "b69ac059-b657-4ea9-ebc5-7e945f2b95cf"
      },
      "outputs": [
        {
          "output_type": "execute_result",
          "data": {
            "text/plain": [
              "<matplotlib.axes._subplots.AxesSubplot at 0x7f53e3092950>"
            ]
          },
          "metadata": {},
          "execution_count": 378
        },
        {
          "output_type": "display_data",
          "data": {
            "text/plain": [
              "<Figure size 432x288 with 1 Axes>"
            ],
            "image/png": "[encoded data removed]"
          },
          "metadata": {
            "needs_background": "light"
          }
        }
      ],
      "source": [
        "sns.histplot(df, x='COVID-19', hue='COVID-19', shrink = 0.8)"
      ]
    },
    {
      "cell_type": "markdown",
      "source": [
        "Relación entre problemas respiratorios y COVID-19"
      ],
      "metadata": {
        "id": "kNX4zZbPxG7Q"
      }
    },
    {
      "cell_type": "code",
      "source": [
        "sns.histplot(df, x='Breathing Problem', hue='COVID-19', multiple=\"dodge\", shrink=0.8);"
      ],
      "metadata": {
        "colab": {
          "base_uri": "https://localhost:8080/",
          "height": 281
        },
        "id": "zmolkqzuwJwk",
        "outputId": "3b648d6c-5fe4-4dd8-dbd1-65ab98ddd14f"
      },
      "execution_count": 379,
      "outputs": [
        {
          "output_type": "display_data",
          "data": {
            "text/plain": [
              "<Figure size 432x288 with 1 Axes>"
            ],
            "image/png": "[encoded data removed]"
          },
          "metadata": {
            "needs_background": "light"
          }
        }
      ]
    },
    {
      "cell_type": "markdown",
      "source": [
        "Relación entre dolor de garganta y COVID-19"
      ],
      "metadata": {
        "id": "5p462y4fxUrw"
      }
    },
    {
      "cell_type": "code",
      "source": [
        "sns.histplot(df, x='Sore throat', hue='COVID-19', multiple=\"dodge\", shrink=0.8);"
      ],
      "metadata": {
        "colab": {
          "base_uri": "https://localhost:8080/",
          "height": 279
        },
        "id": "93QTiylZxi2p",
        "outputId": "90120aaf-2ecb-4d59-e00a-1091de6fdd04"
      },
      "execution_count": 380,
      "outputs": [
        {
          "output_type": "display_data",
          "data": {
            "text/plain": [
              "<Figure size 432x288 with 1 Axes>"
            ],
            "image/png": "[encoded data removed]"
          },
          "metadata": {
            "needs_background": "light"
          }
        }
      ]
    },
    {
      "cell_type": "markdown",
      "source": [
        "Relación entre visitar espacios públicos y COVID-19"
      ],
      "metadata": {
        "id": "v4kmMyPyzGw6"
      }
    },
    {
      "cell_type": "code",
      "source": [
        "sns.histplot(df, x='Visited Public Exposed Places', hue='COVID-19', multiple=\"dodge\", shrink=0.8);"
      ],
      "metadata": {
        "colab": {
          "base_uri": "https://localhost:8080/",
          "height": 281
        },
        "id": "ZtwTlLI5yx6I",
        "outputId": "efc34eb5-1514-49c8-a328-ed2e60d134c3"
      },
      "execution_count": 381,
      "outputs": [
        {
          "output_type": "display_data",
          "data": {
            "text/plain": [
              "<Figure size 432x288 with 1 Axes>"
            ],
            "image/png": "[encoded data removed]"
          },
          "metadata": {
            "needs_background": "light"
          }
        }
      ]
    },
    {
      "cell_type": "markdown",
      "source": [
        "### Tratamos Dataset"
      ],
      "metadata": {
        "id": "55pUZdsMryDW"
      }
    },
    {
      "cell_type": "markdown",
      "source": [
        "Seguidamente trataremos el Dataset, al contar con variables categóricas de Yes y No que representan los síntomas de los pacientes, vamos a transformar los Yes en 1 y los No en 0 para obtener una mayor tratabilidad."
      ],
      "metadata": {
        "id": "uRe4WRphlcAG"
      }
    },
    {
      "cell_type": "code",
      "source": [
        "df.replace('Yes',1,inplace = True)\n",
        "df.replace('No',0,inplace = True)   #inplace True para no devolver copia\n",
        "df"
      ],
      "metadata": {
        "colab": {
          "base_uri": "https://localhost:8080/",
          "height": 520
        },
        "id": "6iOGBo05ovW-",
        "outputId": "2dc430e1-84c2-42e3-e2eb-fef5f0a78e0d"
      },
      "execution_count": 382,
      "outputs": [
        {
          "output_type": "execute_result",
          "data": {
            "text/plain": [
              "      Breathing Problem  Fever  Dry Cough  Sore throat  Running Nose  Asthma  \\\n",
              "0                     1      1          1            1             1       0   \n",
              "1                     1      1          1            1             0       1   \n",
              "2                     1      1          1            1             1       1   \n",
              "3                     1      1          1            0             0       1   \n",
              "4                     1      1          1            1             1       0   \n",
              "...                 ...    ...        ...          ...           ...     ...   \n",
              "5429                  1      1          0            1             1       1   \n",
              "5430                  1      1          1            0             1       1   \n",
              "5431                  1      1          1            0             0       0   \n",
              "5432                  1      1          1            0             1       0   \n",
              "5433                  1      1          1            0             1       1   \n",
              "\n",
              "      Chronic Lung Disease  Headache  Heart Disease  Diabetes  ...  Fatigue   \\\n",
              "0                        0         0              0         1  ...         1   \n",
              "1                        1         1              0         0  ...         1   \n",
              "2                        1         1              0         1  ...         1   \n",
              "3                        0         0              1         1  ...         0   \n",
              "4                        1         1              1         1  ...         0   \n",
              "...                    ...       ...            ...       ...  ...       ...   \n",
              "5429                     1         0              0         0  ...         1   \n",
              "5430                     0         1              0         1  ...         1   \n",
              "5431                     0         0              1         0  ...         0   \n",
              "5432                     0         1              1         0  ...         0   \n",
              "5433                     0         1              0         1  ...         1   \n",
              "\n",
              "      Gastrointestinal   Abroad travel  Contact with COVID Patient  \\\n",
              "0                     1              0                           1   \n",
              "1                     0              0                           0   \n",
              "2                     1              1                           0   \n",
              "3                     0              1                           0   \n",
              "4                     1              0                           1   \n",
              "...                 ...            ...                         ...   \n",
              "5429                  1              0                           0   \n",
              "5430                  0              0                           0   \n",
              "5431                  0              0                           0   \n",
              "5432                  0              0                           0   \n",
              "5433                  0              0                           0   \n",
              "\n",
              "      Attended Large Gathering  Visited Public Exposed Places  \\\n",
              "0                            0                              1   \n",
              "1                            1                              1   \n",
              "2                            0                              0   \n",
              "3                            1                              1   \n",
              "4                            0                              1   \n",
              "...                        ...                            ...   \n",
              "5429                         0                              0   \n",
              "5430                         0                              0   \n",
              "5431                         0                              0   \n",
              "5432                         0                              0   \n",
              "5433                         0                              0   \n",
              "\n",
              "      Family working in Public Exposed Places  Wearing Masks  \\\n",
              "0                                           1              0   \n",
              "1                                           0              0   \n",
              "2                                           0              0   \n",
              "3                                           0              0   \n",
              "4                                           0              0   \n",
              "...                                       ...            ...   \n",
              "5429                                        0              0   \n",
              "5430                                        0              0   \n",
              "5431                                        0              0   \n",
              "5432                                        0              0   \n",
              "5433                                        0              0   \n",
              "\n",
              "      Sanitization from Market  COVID-19  \n",
              "0                            0         1  \n",
              "1                            0         1  \n",
              "2                            0         1  \n",
              "3                            0         1  \n",
              "4                            0         1  \n",
              "...                        ...       ...  \n",
              "5429                         0         1  \n",
              "5430                         0         1  \n",
              "5431                         0         0  \n",
              "5432                         0         0  \n",
              "5433                         0         0  \n",
              "\n",
              "[5434 rows x 21 columns]"
            ],
            "text/html": [
              "\n",
              "  <div id=\"df-f4641a1c-c8c7-4c34-a76c-30539f8ec9c5\">\n",
              "    <div class=\"colab-df-container\">\n",
              "      <div>\n",
              "<style scoped>\n",
              "    .dataframe tbody tr th:only-of-type {\n",
              "        vertical-align: middle;\n",
              "    }\n",
              "\n",
              "    .dataframe tbody tr th {\n",
              "        vertical-align: top;\n",
              "    }\n",
              "\n",
              "    .dataframe thead th {\n",
              "        text-align: right;\n",
              "    }\n",
              "</style>\n",
              "<table border=\"1\" class=\"dataframe\">\n",
              "  <thead>\n",
              "    <tr style=\"text-align: right;\">\n",
              "      <th></th>\n",
              "      <th>Breathing Problem</th>\n",
              "      <th>Fever</th>\n",
              "      <th>Dry Cough</th>\n",
              "      <th>Sore throat</th>\n",
              "      <th>Running Nose</th>\n",
              "      <th>Asthma</th>\n",
              "      <th>Chronic Lung Disease</th>\n",
              "      <th>Headache</th>\n",
              "      <th>Heart Disease</th>\n",
              "      <th>Diabetes</th>\n",
              "      <th>...</th>\n",
              "      <th>Fatigue</th>\n",
              "      <th>Gastrointestinal</th>\n",
              "      <th>Abroad travel</th>\n",
              "      <th>Contact with COVID Patient</th>\n",
              "      <th>Attended Large Gathering</th>\n",
              "      <th>Visited Public Exposed Places</th>\n",
              "      <th>Family working in Public Exposed Places</th>\n",
              "      <th>Wearing Masks</th>\n",
              "      <th>Sanitization from Market</th>\n",
              "      <th>COVID-19</th>\n",
              "    </tr>\n",
              "  </thead>\n",
              "  <tbody>\n",
              "    <tr>\n",
              "      <th>0</th>\n",
              "      <td>1</td>\n",
              "      <td>1</td>\n",
              "      <td>1</td>\n",
              "      <td>1</td>\n",
              "      <td>1</td>\n",
              "      <td>0</td>\n",
              "      <td>0</td>\n",
              "      <td>0</td>\n",
              "      <td>0</td>\n",
              "      <td>1</td>\n",
              "      <td>...</td>\n",
              "      <td>1</td>\n",
              "      <td>1</td>\n",
              "      <td>0</td>\n",
              "      <td>1</td>\n",
              "      <td>0</td>\n",
              "      <td>1</td>\n",
              "      <td>1</td>\n",
              "      <td>0</td>\n",
              "      <td>0</td>\n",
              "      <td>1</td>\n",
              "    </tr>\n",
              "    <tr>\n",
              "      <th>1</th>\n",
              "      <td>1</td>\n",
              "      <td>1</td>\n",
              "      <td>1</td>\n",
              "      <td>1</td>\n",
              "      <td>0</td>\n",
              "      <td>1</td>\n",
              "      <td>1</td>\n",
              "      <td>1</td>\n",
              "      <td>0</td>\n",
              "      <td>0</td>\n",
              "      <td>...</td>\n",
              "      <td>1</td>\n",
              "      <td>0</td>\n",
              "      <td>0</td>\n",
              "      <td>0</td>\n",
              "      <td>1</td>\n",
              "      <td>1</td>\n",
              "      <td>0</td>\n",
              "      <td>0</td>\n",
              "      <td>0</td>\n",
              "      <td>1</td>\n",
              "    </tr>\n",
              "    <tr>\n",
              "      <th>2</th>\n",
              "      <td>1</td>\n",
              "      <td>1</td>\n",
              "      <td>1</td>\n",
              "      <td>1</td>\n",
              "      <td>1</td>\n",
              "      <td>1</td>\n",
              "      <td>1</td>\n",
              "      <td>1</td>\n",
              "      <td>0</td>\n",
              "      <td>1</td>\n",
              "      <td>...</td>\n",
              "      <td>1</td>\n",
              "      <td>1</td>\n",
              "      <td>1</td>\n",
              "      <td>0</td>\n",
              "      <td>0</td>\n",
              "      <td>0</td>\n",
              "      <td>0</td>\n",
              "      <td>0</td>\n",
              "      <td>0</td>\n",
              "      <td>1</td>\n",
              "    </tr>\n",
              "    <tr>\n",
              "      <th>3</th>\n",
              "      <td>1</td>\n",
              "      <td>1</td>\n",
              "      <td>1</td>\n",
              "      <td>0</td>\n",
              "      <td>0</td>\n",
              "      <td>1</td>\n",
              "      <td>0</td>\n",
              "      <td>0</td>\n",
              "      <td>1</td>\n",
              "      <td>1</td>\n",
              "      <td>...</td>\n",
              "      <td>0</td>\n",
              "      <td>0</td>\n",
              "      <td>1</td>\n",
              "      <td>0</td>\n",
              "      <td>1</td>\n",
              "      <td>1</td>\n",
              "      <td>0</td>\n",
              "      <td>0</td>\n",
              "      <td>0</td>\n",
              "      <td>1</td>\n",
              "    </tr>\n",
              "    <tr>\n",
              "      <th>4</th>\n",
              "      <td>1</td>\n",
              "      <td>1</td>\n",
              "      <td>1</td>\n",
              "      <td>1</td>\n",
              "      <td>1</td>\n",
              "      <td>0</td>\n",
              "      <td>1</td>\n",
              "      <td>1</td>\n",
              "      <td>1</td>\n",
              "      <td>1</td>\n",
              "      <td>...</td>\n",
              "      <td>0</td>\n",
              "      <td>1</td>\n",
              "      <td>0</td>\n",
              "      <td>1</td>\n",
              "      <td>0</td>\n",
              "      <td>1</td>\n",
              "      <td>0</td>\n",
              "      <td>0</td>\n",
              "      <td>0</td>\n",
              "      <td>1</td>\n",
              "    </tr>\n",
              "    <tr>\n",
              "      <th>...</th>\n",
              "      <td>...</td>\n",
              "      <td>...</td>\n",
              "      <td>...</td>\n",
              "      <td>...</td>\n",
              "      <td>...</td>\n",
              "      <td>...</td>\n",
              "      <td>...</td>\n",
              "      <td>...</td>\n",
              "      <td>...</td>\n",
              "      <td>...</td>\n",
              "      <td>...</td>\n",
              "      <td>...</td>\n",
              "      <td>...</td>\n",
              "      <td>...</td>\n",
              "      <td>...</td>\n",
              "      <td>...</td>\n",
              "      <td>...</td>\n",
              "      <td>...</td>\n",
              "      <td>...</td>\n",
              "      <td>...</td>\n",
              "      <td>...</td>\n",
              "    </tr>\n",
              "    <tr>\n",
              "      <th>5429</th>\n",
              "      <td>1</td>\n",
              "      <td>1</td>\n",
              "      <td>0</td>\n",
              "      <td>1</td>\n",
              "      <td>1</td>\n",
              "      <td>1</td>\n",
              "      <td>1</td>\n",
              "      <td>0</td>\n",
              "      <td>0</td>\n",
              "      <td>0</td>\n",
              "      <td>...</td>\n",
              "      <td>1</td>\n",
              "      <td>1</td>\n",
              "      <td>0</td>\n",
              "      <td>0</td>\n",
              "      <td>0</td>\n",
              "      <td>0</td>\n",
              "      <td>0</td>\n",
              "      <td>0</td>\n",
              "      <td>0</td>\n",
              "      <td>1</td>\n",
              "    </tr>\n",
              "    <tr>\n",
              "      <th>5430</th>\n",
              "      <td>1</td>\n",
              "      <td>1</td>\n",
              "      <td>1</td>\n",
              "      <td>0</td>\n",
              "      <td>1</td>\n",
              "      <td>1</td>\n",
              "      <td>0</td>\n",
              "      <td>1</td>\n",
              "      <td>0</td>\n",
              "      <td>1</td>\n",
              "      <td>...</td>\n",
              "      <td>1</td>\n",
              "      <td>0</td>\n",
              "      <td>0</td>\n",
              "      <td>0</td>\n",
              "      <td>0</td>\n",
              "      <td>0</td>\n",
              "      <td>0</td>\n",
              "      <td>0</td>\n",
              "      <td>0</td>\n",
              "      <td>1</td>\n",
              "    </tr>\n",
              "    <tr>\n",
              "      <th>5431</th>\n",
              "      <td>1</td>\n",
              "      <td>1</td>\n",
              "      <td>1</td>\n",
              "      <td>0</td>\n",
              "      <td>0</td>\n",
              "      <td>0</td>\n",
              "      <td>0</td>\n",
              "      <td>0</td>\n",
              "      <td>1</td>\n",
              "      <td>0</td>\n",
              "      <td>...</td>\n",
              "      <td>0</td>\n",
              "      <td>0</td>\n",
              "      <td>0</td>\n",
              "      <td>0</td>\n",
              "      <td>0</td>\n",
              "      <td>0</td>\n",
              "      <td>0</td>\n",
              "      <td>0</td>\n",
              "      <td>0</td>\n",
              "      <td>0</td>\n",
              "    </tr>\n",
              "    <tr>\n",
              "      <th>5432</th>\n",
              "      <td>1</td>\n",
              "      <td>1</td>\n",
              "      <td>1</td>\n",
              "      <td>0</td>\n",
              "      <td>1</td>\n",
              "      <td>0</td>\n",
              "      <td>0</td>\n",
              "      <td>1</td>\n",
              "      <td>1</td>\n",
              "      <td>0</td>\n",
              "      <td>...</td>\n",
              "      <td>0</td>\n",
              "      <td>0</td>\n",
              "      <td>0</td>\n",
              "      <td>0</td>\n",
              "      <td>0</td>\n",
              "      <td>0</td>\n",
              "      <td>0</td>\n",
              "      <td>0</td>\n",
              "      <td>0</td>\n",
              "      <td>0</td>\n",
              "    </tr>\n",
              "    <tr>\n",
              "      <th>5433</th>\n",
              "      <td>1</td>\n",
              "      <td>1</td>\n",
              "      <td>1</td>\n",
              "      <td>0</td>\n",
              "      <td>1</td>\n",
              "      <td>1</td>\n",
              "      <td>0</td>\n",
              "      <td>1</td>\n",
              "      <td>0</td>\n",
              "      <td>1</td>\n",
              "      <td>...</td>\n",
              "      <td>1</td>\n",
              "      <td>0</td>\n",
              "      <td>0</td>\n",
              "      <td>0</td>\n",
              "      <td>0</td>\n",
              "      <td>0</td>\n",
              "      <td>0</td>\n",
              "      <td>0</td>\n",
              "      <td>0</td>\n",
              "      <td>0</td>\n",
              "    </tr>\n",
              "  </tbody>\n",
              "</table>\n",
              "<p>5434 rows × 21 columns</p>\n",
              "</div>\n",
              "      <button class=\"colab-df-convert\" onclick=\"convertToInteractive('df-f4641a1c-c8c7-4c34-a76c-30539f8ec9c5')\"\n",
              "              title=\"Convert this dataframe to an interactive table.\"\n",
              "              style=\"display:none;\">\n",
              "        \n",
              "  <svg xmlns=\"http://www.w3.org/2000/svg\" height=\"24px\"viewBox=\"0 0 24 24\"\n",
              "       width=\"24px\">\n",
              "    <path d=\"M0 0h24v24H0V0z\" fill=\"none\"/>\n",
              "    <path d=\"M18.56 5.44l.94 2.06.94-2.06 2.06-.94-2.06-.94-.94-2.06-.94 2.06-2.06.94zm-11 1L8.5 8.5l.94-2.06 2.06-.94-2.06-.94L8.5 2.5l-.94 2.06-2.06.94zm10 10l.94 2.06.94-2.06 2.06-.94-2.06-.94-.94-2.06-.94 2.06-2.06.94z\"/><path d=\"M17.41 7.96l-1.37-1.37c-.4-.4-.92-.59-1.43-.59-.52 0-1.04.2-1.43.59L10.3 9.45l-7.72 7.72c-.78.78-.78 2.05 0 2.83L4 21.41c.39.39.9.59 1.41.59.51 0 1.02-.2 1.41-.59l7.78-7.78 2.81-2.81c.8-.78.8-2.07 0-2.86zM5.41 20L4 18.59l7.72-7.72 1.47 1.35L5.41 20z\"/>\n",
              "  </svg>\n",
              "      </button>\n",
              "      \n",
              "  <style>\n",
              "    .colab-df-container {\n",
              "      display:flex;\n",
              "      flex-wrap:wrap;\n",
              "      gap: 12px;\n",
              "    }\n",
              "\n",
              "    .colab-df-convert {\n",
              "      background-color: #E8F0FE;\n",
              "      border: none;\n",
              "      border-radius: 50%;\n",
              "      cursor: pointer;\n",
              "      display: none;\n",
              "      fill: #1967D2;\n",
              "      height: 32px;\n",
              "      padding: 0 0 0 0;\n",
              "      width: 32px;\n",
              "    }\n",
              "\n",
              "    .colab-df-convert:hover {\n",
              "      background-color: #E2EBFA;\n",
              "      box-shadow: 0px 1px 2px rgba(60, 64, 67, 0.3), 0px 1px 3px 1px rgba(60, 64, 67, 0.15);\n",
              "      fill: #174EA6;\n",
              "    }\n",
              "\n",
              "    [theme=dark] .colab-df-convert {\n",
              "      background-color: #3B4455;\n",
              "      fill: #D2E3FC;\n",
              "    }\n",
              "\n",
              "    [theme=dark] .colab-df-convert:hover {\n",
              "      background-color: #434B5C;\n",
              "      box-shadow: 0px 1px 3px 1px rgba(0, 0, 0, 0.15);\n",
              "      filter: drop-shadow(0px 1px 2px rgba(0, 0, 0, 0.3));\n",
              "      fill: #FFFFFF;\n",
              "    }\n",
              "  </style>\n",
              "\n",
              "      <script>\n",
              "        const buttonEl =\n",
              "          document.querySelector('#df-f4641a1c-c8c7-4c34-a76c-30539f8ec9c5 button.colab-df-convert');\n",
              "        buttonEl.style.display =\n",
              "          google.colab.kernel.accessAllowed ? 'block' : 'none';\n",
              "\n",
              "        async function convertToInteractive(key) {\n",
              "          const element = document.querySelector('#df-f4641a1c-c8c7-4c34-a76c-30539f8ec9c5');\n",
              "          const dataTable =\n",
              "            await google.colab.kernel.invokeFunction('convertToInteractive',\n",
              "                                                     [key], {});\n",
              "          if (!dataTable) return;\n",
              "\n",
              "          const docLinkHtml = 'Like what you see? Visit the ' +\n",
              "            '<a target=\"_blank\" href=https://colab.research.google.com/notebooks/data_table.ipynb>data table notebook</a>'\n",
              "            + ' to learn more about interactive tables.';\n",
              "          element.innerHTML = '';\n",
              "          dataTable['output_type'] = 'display_data';\n",
              "          await google.colab.output.renderOutput(dataTable, element);\n",
              "          const docLink = document.createElement('div');\n",
              "          docLink.innerHTML = docLinkHtml;\n",
              "          element.appendChild(docLink);\n",
              "        }\n",
              "      </script>\n",
              "    </div>\n",
              "  </div>\n",
              "  "
            ]
          },
          "metadata": {},
          "execution_count": 382
        }
      ]
    },
    {
      "cell_type": "markdown",
      "source": [
        "### Correlaciones"
      ],
      "metadata": {
        "id": "RiiKI7pvvlW6"
      }
    },
    {
      "cell_type": "markdown",
      "source": [
        "Observaremos la matriz de correlaciones donde podemos observar que a pesar de estar ppoco correlacionados con COVID-19 los elementos de la matriz tenemos algunos que destacan como pueden ser *Breathing Problem* , *Fever*, *Dry Cough*, *Sore throat*, *Abroad travel*, *Contact with COVID Patient* y *Attended Large Gathering*"
      ],
      "metadata": {
        "id": "LuKx2HjFluMm"
      }
    },
    {
      "cell_type": "code",
      "execution_count": 383,
      "metadata": {
        "colab": {
          "base_uri": "https://localhost:8080/",
          "height": 786
        },
        "id": "YspNDLy0dMOS",
        "outputId": "86375b1b-3f6a-441c-fc5c-d80906666535"
      },
      "outputs": [
        {
          "output_type": "display_data",
          "data": {
            "text/plain": [
              "<Figure size 1080x720 with 2 Axes>"
            ],
            "image/png": "[encoded data removed]"
          },
          "metadata": {
            "needs_background": "light"
          }
        }
      ],
      "source": [
        "correlation_matrix = df.corr().round(2) # arrodonir a 2 decimals\n",
        "plt.figure(figsize = (15,10))\n",
        "sns.heatmap(data = correlation_matrix, annot = True);"
      ]
    },
    {
      "cell_type": "markdown",
      "source": [
        "Por lo tanto, después de observar la matriz de correlaciones y razonar, he decidido tratar solo los elementos con correlación >= 0.35 excluyendo todos los demás."
      ],
      "metadata": {
        "id": "KylR8-LemYJ_"
      }
    },
    {
      "cell_type": "code",
      "source": [
        "corr_target = correlation_matrix.loc['COVID-19',:]\n",
        "corr_target[np.abs(corr_target) >= 0.35]"
      ],
      "metadata": {
        "colab": {
          "base_uri": "https://localhost:8080/"
        },
        "id": "usRMG-Dtqq39",
        "outputId": "4b9b3716-b36c-4229-8c16-6b4c347d3427"
      },
      "execution_count": 384,
      "outputs": [
        {
          "output_type": "execute_result",
          "data": {
            "text/plain": [
              "Breathing Problem             0.44\n",
              "Fever                         0.35\n",
              "Dry Cough                     0.46\n",
              "Sore throat                   0.50\n",
              "Abroad travel                 0.44\n",
              "Contact with COVID Patient    0.36\n",
              "Attended Large Gathering      0.39\n",
              "COVID-19                      1.00\n",
              "Name: COVID-19, dtype: float64"
            ]
          },
          "metadata": {},
          "execution_count": 384
        }
      ]
    },
    {
      "cell_type": "markdown",
      "source": [
        "# Modelos"
      ],
      "metadata": {
        "id": "zpv94J_h0Sjr"
      }
    },
    {
      "cell_type": "markdown",
      "source": [
        "A continuación, comprobaremos la precisión de distintos modelos para así escoger el que mejores resultados nos de como modelos final."
      ],
      "metadata": {
        "id": "Ev7XoWpomuVb"
      }
    },
    {
      "cell_type": "markdown",
      "source": [
        "### Import de librerías necesarias"
      ],
      "metadata": {
        "id": "1nAioh6kTLxD"
      }
    },
    {
      "cell_type": "markdown",
      "source": [
        "Para esto he necesitado las siguientes librerías que proyectarán los resultados de los correspondientes modelos.\n",
        "\n",
        "\n",
        "\n"
      ],
      "metadata": {
        "id": "-nwKwTGMmto7"
      }
    },
    {
      "cell_type": "code",
      "source": [
        "from sklearn.model_selection import train_test_split\n",
        "from sklearn.preprocessing import StandardScaler\n",
        "from sklearn import preprocessing\n",
        "from sklearn.linear_model import LogisticRegression\n",
        "from sklearn.metrics import accuracy_score\n",
        "from sklearn.metrics import confusion_matrix\n",
        "from sklearn.metrics import ConfusionMatrixDisplay\n",
        "from sklearn.metrics import classification_report\n",
        "from sklearn.model_selection import cross_val_score\n",
        "from sklearn import tree\n",
        "from sklearn.svm import SVC\n",
        "from sklearn.ensemble import RandomForestClassifier\n",
        "from sklearn.model_selection import GridSearchCV"
      ],
      "metadata": {
        "id": "WyWTB5UN1nnt"
      },
      "execution_count": 385,
      "outputs": []
    },
    {
      "cell_type": "markdown",
      "source": [
        "### Selección de columnas"
      ],
      "metadata": {
        "id": "Ngj4Vv2eTRoq"
      }
    },
    {
      "cell_type": "markdown",
      "source": [
        "Seguidamente, seleccionaré las columnas que he mencionado antes con correlación mayor a 0.35 para entrenar los modelos y utilizaré como variable *y* COVID-19 ya que es lo que quiero predecir dados unos síntomas como inputs."
      ],
      "metadata": {
        "id": "OwQ4coTGnJHr"
      }
    },
    {
      "cell_type": "code",
      "source": [
        "X = pd.concat((df['Breathing Problem'], df['Sore throat'], df['Dry Cough'], df['Abroad travel'], df['Contact with COVID Patient'], df['Contact with COVID Patient'], df['Fever']), axis = 1)\n",
        "y = df['COVID-19']"
      ],
      "metadata": {
        "id": "cAmT9hEP1NNr"
      },
      "execution_count": 386,
      "outputs": []
    },
    {
      "cell_type": "markdown",
      "source": [
        "### Estandarización"
      ],
      "metadata": {
        "id": "E-k3609cTVEi"
      }
    },
    {
      "cell_type": "markdown",
      "source": [
        "A continuación haremos la estandarización de los datos separándolos en dos\n",
        "grupos, un 75% serán de training y el otro 25% serán de testing"
      ],
      "metadata": {
        "id": "McOTXYZ4qSTw"
      }
    },
    {
      "cell_type": "code",
      "source": [
        "X_std = StandardScaler().fit_transform(X)\n",
        "X_train_std, X_test_std, y_train_std, y_test_std = train_test_split(X_std, y, test_size = 0.25, random_state = 7)\n",
        "X_train_std"
      ],
      "metadata": {
        "id": "uDHT9pgw1lyz",
        "colab": {
          "base_uri": "https://localhost:8080/"
        },
        "outputId": "c3285b28-7855-4a6e-b737-ff7bd834b709"
      },
      "execution_count": 387,
      "outputs": [
        {
          "output_type": "execute_result",
          "data": {
            "text/plain": [
              "array([[ 0.70788768,  0.61208836,  0.51153402, ...,  0.99669299,\n",
              "         0.99669299,  0.52125432],\n",
              "       [-1.41265348, -1.63375104, -1.95490419, ...,  0.99669299,\n",
              "         0.99669299, -1.91844935],\n",
              "       [ 0.70788768, -1.63375104, -1.95490419, ..., -1.00331798,\n",
              "        -1.00331798,  0.52125432],\n",
              "       ...,\n",
              "       [ 0.70788768,  0.61208836,  0.51153402, ...,  0.99669299,\n",
              "         0.99669299,  0.52125432],\n",
              "       [ 0.70788768,  0.61208836,  0.51153402, ...,  0.99669299,\n",
              "         0.99669299,  0.52125432],\n",
              "       [-1.41265348, -1.63375104, -1.95490419, ..., -1.00331798,\n",
              "        -1.00331798, -1.91844935]])"
            ]
          },
          "metadata": {},
          "execution_count": 387
        }
      ]
    },
    {
      "cell_type": "markdown",
      "source": [
        "## Regresión Logística"
      ],
      "metadata": {
        "id": "O3pbOqKEUcbA"
      }
    },
    {
      "cell_type": "markdown",
      "source": [
        "Primeramente comenzaremos con Regresión Logística para clasificar los datos así que lo entrenaremos"
      ],
      "metadata": {
        "id": "bdslbyBQnkAz"
      }
    },
    {
      "cell_type": "code",
      "source": [
        "logistic = LogisticRegression()\n",
        "logistic.fit(X_train_std, y_train_std)"
      ],
      "metadata": {
        "colab": {
          "base_uri": "https://localhost:8080/"
        },
        "id": "7gN-PqYST9_z",
        "outputId": "3d1ca34f-4f21-411e-8b7b-d936e827313b"
      },
      "execution_count": 388,
      "outputs": [
        {
          "output_type": "execute_result",
          "data": {
            "text/plain": [
              "LogisticRegression()"
            ]
          },
          "metadata": {},
          "execution_count": 388
        }
      ]
    },
    {
      "cell_type": "markdown",
      "source": [
        "Aquí tenemos una matriz de confusión ddel modelo para próximamente compararla con los otros modelos."
      ],
      "metadata": {
        "id": "no1z2mlenurD"
      }
    },
    {
      "cell_type": "code",
      "source": [
        "y_pred = logistic.predict(X_train_std)\n",
        "confusio = confusion_matrix(y_train_std.values, y_pred)\n",
        "ConfusionMatrixDisplay(confusio).plot();"
      ],
      "metadata": {
        "colab": {
          "base_uri": "https://localhost:8080/",
          "height": 279
        },
        "id": "XZl1FOxUUF_2",
        "outputId": "cb89d858-3001-4ffe-d711-6e0add5f5cbe"
      },
      "execution_count": 389,
      "outputs": [
        {
          "output_type": "display_data",
          "data": {
            "text/plain": [
              "<Figure size 432x288 with 2 Axes>"
            ],
            "image/png": "[encoded data removed]"
          },
          "metadata": {
            "needs_background": "light"
          }
        }
      ]
    },
    {
      "cell_type": "markdown",
      "source": [
        "### Accuracy de regresión logística"
      ],
      "metadata": {
        "id": "K2RiAuMNVbUJ"
      }
    },
    {
      "cell_type": "markdown",
      "source": [
        "Seguidamente calcularemos la Accuracy, Precision, F1 y Recall de nuestro modelo"
      ],
      "metadata": {
        "id": "RDniZaripH2V"
      }
    },
    {
      "cell_type": "code",
      "source": [
        "total = np.sum(confusio)\n",
        "\n",
        "TP = confusio[1,1]\n",
        "TN = confusio[0,0]\n",
        "\n",
        "FP = confusio[0,1]\n",
        "FN = confusio[1,0]\n",
        "\n",
        "precision = TP / (TP + FP)\n",
        "print('Precision: ', precision)\n",
        "\n",
        "recall = TP / (TP + FN)\n",
        "print('Recall: ', recall )\n",
        "\n",
        "F1 = 2 * TP / (2 * TP + FN + FP)\n",
        "print('F1-Score: ', F1)\n",
        "\n",
        "accuracy = (TP + TN) / (TP + FN + TN + FP)\n",
        "print('Accuracy: ', accuracy)"
      ],
      "metadata": {
        "colab": {
          "base_uri": "https://localhost:8080/"
        },
        "id": "kn1wxEoUVYBj",
        "outputId": "aa5d2b5a-550e-422c-ddf3-13cda0ce0cb4"
      },
      "execution_count": 390,
      "outputs": [
        {
          "output_type": "stream",
          "name": "stdout",
          "text": [
            "Precision:  0.952395032525133\n",
            "Recall:  0.9841124350748549\n",
            "F1-Score:  0.9679939894815928\n",
            "Accuracy:  0.9477300613496933\n"
          ]
        }
      ]
    },
    {
      "cell_type": "markdown",
      "source": [
        "También calucularemos la accuracy de nuestro modelo mediante cross validation"
      ],
      "metadata": {
        "id": "QcQELEpspdT7"
      }
    },
    {
      "cell_type": "code",
      "source": [
        "round(cross_val_score(logistic, X_train_std, y_train_std, cv = 5, scoring=\"accuracy\").mean(), 4)"
      ],
      "metadata": {
        "colab": {
          "base_uri": "https://localhost:8080/"
        },
        "id": "SVo-OfpyV2nD",
        "outputId": "008cf380-a97f-481a-ba3c-aed37fc3da04"
      },
      "execution_count": 391,
      "outputs": [
        {
          "output_type": "execute_result",
          "data": {
            "text/plain": [
              "0.9477"
            ]
          },
          "metadata": {},
          "execution_count": 391
        }
      ]
    },
    {
      "cell_type": "markdown",
      "source": [
        "## Árboles de decisión"
      ],
      "metadata": {
        "id": "QHIrc-8XYIuW"
      }
    },
    {
      "cell_type": "markdown",
      "source": [
        "El segundo modelo que probaremos para este problema serán los árboles de decisión los cuáles en una clasificación binaria pueden ser realmente efectivos."
      ],
      "metadata": {
        "id": "oaz2K69vppSN"
      }
    },
    {
      "cell_type": "code",
      "source": [
        "dtc = tree.DecisionTreeClassifier()\n",
        "dtc.fit(X_train_std, y_train_std)"
      ],
      "metadata": {
        "colab": {
          "base_uri": "https://localhost:8080/"
        },
        "id": "prsN_2rsYNCy",
        "outputId": "8ab01011-a83b-4dd1-9350-aeaf6f19d300"
      },
      "execution_count": 392,
      "outputs": [
        {
          "output_type": "execute_result",
          "data": {
            "text/plain": [
              "DecisionTreeClassifier()"
            ]
          },
          "metadata": {},
          "execution_count": 392
        }
      ]
    },
    {
      "cell_type": "markdown",
      "source": [
        "Podemos observar una accuracy muy similar a la regresión logística, ambas muy altas."
      ],
      "metadata": {
        "id": "fnZjdzNrqHlc"
      }
    },
    {
      "cell_type": "code",
      "source": [
        "round(cross_val_score(dtc, X_train_std, y_train_std, cv = 5, scoring=\"accuracy\").mean(), 4)"
      ],
      "metadata": {
        "colab": {
          "base_uri": "https://localhost:8080/"
        },
        "id": "vxrhfseQqC30",
        "outputId": "deb57de3-7887-489d-ed92-7698366b3ba1"
      },
      "execution_count": 393,
      "outputs": [
        {
          "output_type": "execute_result",
          "data": {
            "text/plain": [
              "0.9531"
            ]
          },
          "metadata": {},
          "execution_count": 393
        }
      ]
    },
    {
      "cell_type": "markdown",
      "source": [
        "Para mostrar cómo ha hecho el modelo para clasificar las personas que tienen COVID de las que no, procedemos a mostrar una ilustración del árbol binario generado:"
      ],
      "metadata": {
        "id": "qYZ4o0SWp0Vh"
      }
    },
    {
      "cell_type": "code",
      "source": [
        "plt.figure(figsize=(20,20))\n",
        "tree.plot_tree(dtc, fontsize=8, class_names =['NO COVID-19', 'COVID-19'], feature_names = X.columns)\n",
        "plt.show()"
      ],
      "metadata": {
        "colab": {
          "base_uri": "https://localhost:8080/",
          "height": 0
        },
        "id": "ACObz95yYzjh",
        "outputId": "8f27ca41-656d-40d4-a69b-4c5737934dad"
      },
      "execution_count": 394,
      "outputs": [
        {
          "output_type": "display_data",
          "data": {
            "text/plain": [
              "<Figure size 1440x1440 with 1 Axes>"
            ],
            "image/png": "[encoded data removed]"
          },
          "metadata": {
            "needs_background": "light"
          }
        }
      ]
    },
    {
      "cell_type": "markdown",
      "source": [
        "## Support Vector Machine"
      ],
      "metadata": {
        "id": "uPfeLLXrcClW"
      }
    },
    {
      "cell_type": "markdown",
      "source": [
        "En tercer lugar optaremos por probar Support Vector Machine para entrenar nuestro modelo y observar así su accuracy ya que este nos puede devolver muy buenos resultados"
      ],
      "metadata": {
        "id": "DYzKFK5TqpnI"
      }
    },
    {
      "cell_type": "markdown",
      "source": [
        "Aplicaremos GridSearch para probar distintos hyperparámetros de kernel, C y gamma obteniendo así los siguientes resultados:\n",
        "\n",
        "\n",
        "*   C = 0.31622776601683794\n",
        "*   Gamma = 100000.0\n",
        "*   Kernel = Radial Basis Function\n",
        "\n",
        "\n",
        "\n"
      ],
      "metadata": {
        "id": "-Pbjjmuz7xvw"
      }
    },
    {
      "cell_type": "code",
      "source": [
        "Cs = np.logspace(-2, 1, 5)\n",
        "gammas = np.logspace(-9, 5, 3)\n",
        "parametres = [{'kernel': ['rbf'], 'C': Cs, 'gamma': gammas}, {'kernel': ['poly'], 'C': Cs, 'degree': np.arange(2, 4)}]\n",
        "\n",
        "grid = GridSearchCV(SVC(), \n",
        "                    param_grid = parametres, \n",
        "                    cv = 5, \n",
        "                    scoring = 'accuracy', \n",
        "                    n_jobs=2)\n",
        "grid_search = grid.fit(X_train_std, y_train_std)\n",
        "grid_search.cv_results_\n",
        "\n",
        "print(\"Hyperparameters: %s Average accuracy: %0.2f\"\n",
        "      % (grid.best_params_, grid.best_score_))"
      ],
      "metadata": {
        "colab": {
          "base_uri": "https://localhost:8080/"
        },
        "id": "ugYzVyrdnnpK",
        "outputId": "0e4815f5-17bf-484d-c48d-ddb5aaae41b8"
      },
      "execution_count": 395,
      "outputs": [
        {
          "output_type": "stream",
          "name": "stdout",
          "text": [
            "Hyperparameters: {'C': 0.31622776601683794, 'gamma': 100000.0, 'kernel': 'rbf'} Average accuracy: 0.96\n"
          ]
        }
      ]
    },
    {
      "cell_type": "markdown",
      "source": [
        "Procedemos a entrenar nuestro modelo de SVC con los hyperparámetros que hemos encontrado con GridSearch"
      ],
      "metadata": {
        "id": "ldN3AxUJqfyc"
      }
    },
    {
      "cell_type": "code",
      "source": [
        "svr = SVC(C = 0.31622776601683794, gamma = 100000.0, kernel = 'rbf')\n",
        "svr.fit(X_train_std, y_train_std)"
      ],
      "metadata": {
        "colab": {
          "base_uri": "https://localhost:8080/"
        },
        "id": "f2dwNNRpcI4m",
        "outputId": "c2cdabd8-2eec-4edb-a377-f3b9023969d7"
      },
      "execution_count": 396,
      "outputs": [
        {
          "output_type": "execute_result",
          "data": {
            "text/plain": [
              "SVC(C=0.31622776601683794, gamma=100000.0)"
            ]
          },
          "metadata": {},
          "execution_count": 396
        }
      ]
    },
    {
      "cell_type": "markdown",
      "source": [
        "Podemos observar la siguiente accuracy del modelo siendo la más alta hasta ahora aunque no sea muy diferente de las demás"
      ],
      "metadata": {
        "id": "FkkNl2QYq41V"
      }
    },
    {
      "cell_type": "code",
      "source": [
        "round(cross_val_score(svr, X_train_std, y_train_std, cv = 5, scoring=\"accuracy\").mean(), 4)"
      ],
      "metadata": {
        "colab": {
          "base_uri": "https://localhost:8080/"
        },
        "id": "G4ADaoqTqWHh",
        "outputId": "5289a30f-d3ea-460a-ee9e-ee31a6c21229"
      },
      "execution_count": 397,
      "outputs": [
        {
          "output_type": "execute_result",
          "data": {
            "text/plain": [
              "0.9571"
            ]
          },
          "metadata": {},
          "execution_count": 397
        }
      ]
    },
    {
      "cell_type": "markdown",
      "source": [
        "## Random Forests"
      ],
      "metadata": {
        "id": "EFeD6ix2iHAv"
      }
    },
    {
      "cell_type": "markdown",
      "source": [
        "Finalmente comprobaremos qué tal funciona un modelo de Randoms Forests"
      ],
      "metadata": {
        "id": "fvtHjPNxrQ70"
      }
    },
    {
      "cell_type": "code",
      "source": [
        "rf = RandomForestClassifier()"
      ],
      "metadata": {
        "id": "Ktyg1dU2iK-X"
      },
      "execution_count": 398,
      "outputs": []
    },
    {
      "cell_type": "markdown",
      "source": [
        "Podemos observar la siguiente accuracy que es similar a la del árbol de decisión binario"
      ],
      "metadata": {
        "id": "jxDunuHks2RL"
      }
    },
    {
      "cell_type": "code",
      "source": [
        "round(cross_val_score(rf, X_train_std, y_train_std, cv = 5, scoring=\"accuracy\").mean(), 4)"
      ],
      "metadata": {
        "colab": {
          "base_uri": "https://localhost:8080/"
        },
        "id": "X_HbY3mWsrwd",
        "outputId": "d4689289-d7ac-4ae3-c731-c37b1b08721d"
      },
      "execution_count": 399,
      "outputs": [
        {
          "output_type": "execute_result",
          "data": {
            "text/plain": [
              "0.9544"
            ]
          },
          "metadata": {},
          "execution_count": 399
        }
      ]
    },
    {
      "cell_type": "markdown",
      "source": [
        "Seguidamente comprobaremos qué tan importantes han sido los parámetros que le hemos introducido al modelo de randoms forests"
      ],
      "metadata": {
        "id": "gMeJn499tHGl"
      }
    },
    {
      "cell_type": "code",
      "source": [
        "rf.fit(X_train_std, y_train_std)\n",
        "importances = dict(zip(X.columns, rf.feature_importances_))\n",
        "importances"
      ],
      "metadata": {
        "colab": {
          "base_uri": "https://localhost:8080/"
        },
        "id": "eLEgWEdrsaxy",
        "outputId": "6c1591e7-8436-4dc7-8ece-fa54d2566404"
      },
      "execution_count": 400,
      "outputs": [
        {
          "output_type": "execute_result",
          "data": {
            "text/plain": [
              "{'Abroad travel': 0.1884278117885368,\n",
              " 'Breathing Problem': 0.19845371955598384,\n",
              " 'Contact with COVID Patient': 0.057234346553021224,\n",
              " 'Dry Cough': 0.1792117246321219,\n",
              " 'Fever': 0.10295241669912826,\n",
              " 'Sore throat': 0.2056996643692533}"
            ]
          },
          "metadata": {},
          "execution_count": 400
        }
      ]
    },
    {
      "cell_type": "markdown",
      "source": [
        "Observamos que el dolor de garganta es el síntoma más importante entre los seleccionados mientras que el contacto con un paciente con COVID no es tan importante como los demás."
      ],
      "metadata": {
        "id": "L_qGje08tPIk"
      }
    },
    {
      "cell_type": "code",
      "source": [
        "plt.figure(figsize=(10, 5))\n",
        "plt.bar(*zip(*importances.items()));"
      ],
      "metadata": {
        "colab": {
          "base_uri": "https://localhost:8080/",
          "height": 320
        },
        "id": "zr8XdofqrMVP",
        "outputId": "ee33e719-c806-44a7-916e-5c1d7b11101e"
      },
      "execution_count": 401,
      "outputs": [
        {
          "output_type": "display_data",
          "data": {
            "text/plain": [
              "<Figure size 720x360 with 1 Axes>"
            ],
            "image/png": "[encoded data removed]"
          },
          "metadata": {
            "needs_background": "light"
          }
        }
      ]
    },
    {
      "cell_type": "markdown",
      "source": [
        "# Resultados"
      ],
      "metadata": {
        "id": "qLkMfLy1teos"
      }
    },
    {
      "cell_type": "markdown",
      "source": [
        "Después de haber observado que el que mejor resultados nos da es Support Vector Machine, procederemos a ejecutar el test para poder dar una accuracy definitiva de nuestro modelo"
      ],
      "metadata": {
        "id": "u81YB2E7thY8"
      }
    },
    {
      "cell_type": "code",
      "source": [
        "from sklearn.metrics import classification_report\n",
        "from sklearn.metrics import accuracy_score"
      ],
      "metadata": {
        "id": "v6wIAHvrxLwJ"
      },
      "execution_count": 402,
      "outputs": []
    },
    {
      "cell_type": "markdown",
      "source": [
        "Aplicaremos nuestro modelo SVC con los hiperparámetros que hemos descubierto en el train ya que son los que mejor resultados nos daba en el entrenamiento del modelo."
      ],
      "metadata": {
        "id": "yPZ1BpVj4Vfn"
      }
    },
    {
      "cell_type": "code",
      "source": [
        "svr = SVC(C = 0.31622776601683794, gamma = 100000.0, kernel = 'rbf')\n",
        "svr.fit(X_train_std, y_train_std)"
      ],
      "metadata": {
        "colab": {
          "base_uri": "https://localhost:8080/"
        },
        "id": "jItL0G-yuHs6",
        "outputId": "c7f84eb1-4df7-4905-8d9c-39972fbbcf7b"
      },
      "execution_count": 403,
      "outputs": [
        {
          "output_type": "execute_result",
          "data": {
            "text/plain": [
              "SVC(C=0.31622776601683794, gamma=100000.0)"
            ]
          },
          "metadata": {},
          "execution_count": 403
        }
      ]
    },
    {
      "cell_type": "markdown",
      "source": [
        "Seguidamente haremos las predicciones con nuestro modelo y comprobaremos cuál es nuestra accuracy. \n",
        "\n",
        "Nos ha dado bastante alta, aproximadamente 97% de accuracy."
      ],
      "metadata": {
        "id": "cZ23hWWR4llm"
      }
    },
    {
      "cell_type": "code",
      "source": [
        "y_predsvr = svr.predict(X_test_std)\n",
        "\n",
        "accuracy_score(y_test_std, y_predsvr)"
      ],
      "metadata": {
        "colab": {
          "base_uri": "https://localhost:8080/"
        },
        "id": "sNxMDMcu4kwn",
        "outputId": "e8045392-7ea8-4f4f-b417-a0b566a91d70"
      },
      "execution_count": 404,
      "outputs": [
        {
          "output_type": "execute_result",
          "data": {
            "text/plain": [
              "0.9676232523914643"
            ]
          },
          "metadata": {},
          "execution_count": 404
        }
      ]
    },
    {
      "cell_type": "markdown",
      "source": [
        "Podemos observar la matriz de confusión que nos da muy buenos resultados. Si una persona tiene COVID-19 tenemos un 100% de aciertos aunque esto puede deberse a la muestra desbalanceada que tenemos ya que tenemos más muestra de gente que tiene COVID que de gente que no tiene COVID. Si tuviéramos una muestra balanceada estos resultados cambiarían aunque se estimarían valores similares que los obtenidos."
      ],
      "metadata": {
        "id": "I3bCtX8W7GDE"
      }
    },
    {
      "cell_type": "code",
      "source": [
        "confusionSVC = confusion_matrix(y_test_std.values, y_predsvr)\n",
        "ConfusionMatrixDisplay(confusionSVC).plot();"
      ],
      "metadata": {
        "colab": {
          "base_uri": "https://localhost:8080/",
          "height": 279
        },
        "id": "y7ylnRjZyR5n",
        "outputId": "6f91ff7c-1c06-4708-fcf5-ca11d6072c60"
      },
      "execution_count": 405,
      "outputs": [
        {
          "output_type": "display_data",
          "data": {
            "text/plain": [
              "<Figure size 432x288 with 2 Axes>"
            ],
            "image/png": "[encoded data removed]"
          },
          "metadata": {
            "needs_background": "light"
          }
        }
      ]
    },
    {
      "cell_type": "markdown",
      "source": [
        "Este es el classification report donde podemos observar los resultados obtenidos en la matriz de confusión que he mencionado anteriormente."
      ],
      "metadata": {
        "id": "0LG3YbJl7tjG"
      }
    },
    {
      "cell_type": "code",
      "source": [
        "classification_report(y_test_std, y_predsvr)"
      ],
      "metadata": {
        "colab": {
          "base_uri": "https://localhost:8080/",
          "height": 53
        },
        "id": "0l-FK7O83JSJ",
        "outputId": "f33b8013-a082-4ad1-8113-9132a3110f25"
      },
      "execution_count": 406,
      "outputs": [
        {
          "output_type": "execute_result",
          "data": {
            "text/plain": [
              "'              precision    recall  f1-score   support\\n\\n           0       1.00      0.82      0.90       249\\n           1       0.96      1.00      0.98      1110\\n\\n    accuracy                           0.97      1359\\n   macro avg       0.98      0.91      0.94      1359\\nweighted avg       0.97      0.97      0.97      1359\\n'"
            ],
            "application/vnd.google.colaboratory.intrinsic+json": {
              "type": "string"
            }
          },
          "metadata": {},
          "execution_count": 406
        }
      ]
    },
    {
      "cell_type": "markdown",
      "source": [
        "Para apreciar esto con mayor claridad tenemos el siiguiente código que calcula Precision, F1-Score, Recall y Accuracy donde podemos observar también resultados altos."
      ],
      "metadata": {
        "id": "6ltKQ1vc72KW"
      }
    },
    {
      "cell_type": "code",
      "source": [
        "total = np.sum(confusionSVC)\n",
        "\n",
        "TP = confusionSVC[1,1]\n",
        "TN = confusionSVC[0,0]\n",
        "\n",
        "FP = confusionSVC[0,1]\n",
        "FN = confusionSVC[1,0]\n",
        "\n",
        "precision = TP / (TP + FP)\n",
        "print('Precision: ', precision)\n",
        "\n",
        "recall = TP / (TP + FN)\n",
        "print('Recall: ', recall )\n",
        "\n",
        "F1 = 2 * TP / (2 * TP + FN + FP)\n",
        "print('F1-Score: ', F1)\n",
        "\n",
        "accuracy = (TP + TN) / (TP + FN + TN + FP)\n",
        "print('Accuracy: ', accuracy)"
      ],
      "metadata": {
        "colab": {
          "base_uri": "https://localhost:8080/"
        },
        "id": "72l8ussi5vw2",
        "outputId": "a6fc5255-408a-4e68-e3c6-3b4e610bfca4"
      },
      "execution_count": 407,
      "outputs": [
        {
          "output_type": "stream",
          "name": "stdout",
          "text": [
            "Precision:  0.9618717504332756\n",
            "Recall:  1.0\n",
            "F1-Score:  0.980565371024735\n",
            "Accuracy:  0.9676232523914643\n"
          ]
        }
      ]
    },
    {
      "cell_type": "markdown",
      "source": [
        "# Conclusiones"
      ],
      "metadata": {
        "id": "DWWozdUPx2X-"
      }
    },
    {
      "cell_type": "markdown",
      "source": [
        "En este proyecto hemos comprobado la accuracy de algunos modelos de classificación para un Dataset dado.\n",
        "\n",
        "Los modelos que hemos testeado han sido:\n",
        "\n",
        "\n",
        "> Resgresión Logística (Accuracy: 94.7%)\n",
        "\n",
        "> Árboles de decisión (Accuracy: 95.3%)\n",
        "\n",
        "> Support Vector Machine (Accuracy: 95.7%)\n",
        "\n",
        "> Random Forests (Accuracy: 95.3%)\n",
        "\n",
        "De estos 4 hemos visto que SVM era el modelo que nos proporcionaba mejores resultados, por lo tanto, hemos comprobado qué predicciones nos daría con nuestro test siendo estos resultados bastante buenos con una accuracy del 97% aproximadamente.\n",
        "\n",
        "A pesar de estos resultados óptimos, para futuras investigaciones de estos modelos en este Dataset, deberíamos incorporar más casos de *No* en el Dataset para balancear las muestras ya que las tenemos desbalanceadas. Este desbalance puede provocar falsos resultados positivos y, por lo tanto, deberíamos corregirlo. Por otro lado, debido a los resultados positivos del modelo en todos sus aspectos lo más probable es que cuando balanceemos las muestras los resultados seguirían siendo óptimos y la accuracy no bajaría demasiado.\n",
        "\n",
        "\n",
        "\n",
        "\n",
        "\n",
        "\n",
        "\n",
        "\n"
      ],
      "metadata": {
        "id": "MJ78hhZQBRyD"
      }
    }
  ],
  "metadata": {
    "colab": {
      "collapsed_sections": [],
      "name": "Covid Prediction - Marc Nebot.ipynb",
      "provenance": []
    },
    "kernelspec": {
      "display_name": "Python 3",
      "name": "python3"
    },
    "language_info": {
      "name": "python"
    }
  },
  "nbformat": 4,
  "nbformat_minor": 0
}